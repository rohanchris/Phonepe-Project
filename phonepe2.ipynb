{
 "cells": [
  {
   "cell_type": "code",
   "execution_count": 1,
   "metadata": {},
   "outputs": [],
   "source": [
    "import pandas as pd\n",
    "import psycopg2\n",
    "import plotly.express as px\n",
    "import requests\n",
    "import json"
   ]
  },
  {
   "cell_type": "code",
   "execution_count": 2,
   "metadata": {},
   "outputs": [],
   "source": [
    "#DataFrame Creation\n",
    "\n",
    "#Table for SQL Creation\n",
    "\n",
    "mydb=psycopg2.connect(host=\"localhost\",\n",
    "                      user=\"postgres\",\n",
    "                      password=\"postgres\",\n",
    "                      database=\"phone_pe\",\n",
    "                      port=\"5432\")\n",
    "cursor=mydb.cursor()\n",
    "\n",
    "#agg_insurance_df\n",
    "cursor.execute(\"SELECT * FROM agg_transaction\")\n",
    "mydb.commit()\n",
    "table1=cursor.fetchall()\n",
    "\n",
    "Agg_Insurance=pd.DataFrame(table1, columns=(\"States\",\"Years\",\"Quarter\",\"Transaction_Type\",\"Transaction_count\",\"Transaction_Amount\"))\n",
    "\n",
    "#agg_transaction_df\n",
    "cursor.execute(\"SELECT * FROM agg_transaction\")\n",
    "mydb.commit()\n",
    "table2=cursor.fetchall()\n",
    "\n",
    "Agg_Transaction=pd.DataFrame(table2, columns=(\"States\",\"Years\",\"Quarter\",\"Transaction_Type\",\"Transaction_count\",\"Transaction_Amount\"))\n",
    "\n",
    "#agg_user_df\n",
    "cursor.execute(\"SELECT * FROM agg_user\")\n",
    "mydb.commit()\n",
    "table3=cursor.fetchall()\n",
    "\n",
    "Agg_User=pd.DataFrame(table3, columns=(\"States\",\"Years\",\"Quarter\",\"Brands\",\"Transaction_count\",\"Percentage\"))\n",
    "\n",
    "\n",
    "#map_insurance_df\n",
    "cursor.execute(\"SELECT * FROM map_insurance\")\n",
    "mydb.commit()\n",
    "table4=cursor.fetchall()\n",
    "\n",
    "Map_Insurance=pd.DataFrame(table4, columns=(\"States\",\"Years\",\"Quarter\",\"District\",\"Transaction_count\",\"Transaction_Amount\"))\n",
    "\n",
    "#map_transaction_df\n",
    "cursor.execute(\"SELECT * FROM map_transaction\")\n",
    "mydb.commit()\n",
    "table5=cursor.fetchall()\n",
    "\n",
    "Map_Transaction=pd.DataFrame(table5, columns=(\"States\",\"Years\",\"Quarter\",\"District\",\"Transaction_count\",\"Transaction_Amount\"))\n",
    "\n",
    "#map_user_df\n",
    "cursor.execute(\"SELECT * FROM map_user\")\n",
    "mydb.commit()\n",
    "table6=cursor.fetchall()\n",
    "\n",
    "Map_User=pd.DataFrame(table6, columns=(\"States\",\"Years\",\"Quarter\",\"Districts\",\"RegisteredUser\",\"AppOpens\"))\n",
    "\n",
    "#top_insurance_df\n",
    "cursor.execute(\"SELECT * FROM top_insurance\")\n",
    "mydb.commit()\n",
    "table7=cursor.fetchall()\n",
    "\n",
    "Top_Insurance=pd.DataFrame(table7, columns=(\"States\",\"Years\",\"Quarter\",\"Pincodes\",\"Transaction_count\",\"Transaction_Amount\"))\n",
    "\n",
    "#top_transaction_df\n",
    "cursor.execute(\"SELECT * FROM top_transaction\")\n",
    "mydb.commit()\n",
    "table8=cursor.fetchall()\n",
    "\n",
    "Top_Transaction=pd.DataFrame(table8, columns=(\"States\",\"Years\",\"Quarter\",\"Pincodes\",\"Transaction_count\",\"Transaction_Amount\"))\n",
    "\n",
    "#top_user_df\n",
    "cursor.execute(\"SELECT * FROM top_user\")\n",
    "mydb.commit()\n",
    "table9=cursor.fetchall()\n",
    "\n",
    "Top_User=pd.DataFrame(table9, columns=(\"States\",\"Years\",\"Quarter\",\"Pincodes\",\"RegisteredUsers\"))"
   ]
  },
  {
   "cell_type": "code",
   "execution_count": 3,
   "metadata": {},
   "outputs": [],
   "source": [
    "#Table for SQL Creation\n",
    "\n",
    "def Top_Chart_transaction_Amount(table_name):\n",
    "        mydb=psycopg2.connect(host=\"localhost\",\n",
    "                        user=\"postgres\",\n",
    "                        password=\"postgres\",\n",
    "                        database=\"phone_pe\",\n",
    "                        port=\"5432\")\n",
    "        cursor=mydb.cursor()\n",
    "\n",
    "        #query1\n",
    "        query1= f'''SELECT States, SUM(Transaction_Amount) AS Transaction_Amount\n",
    "                        FROM {table_name}\n",
    "                        GROUP BY states\n",
    "                        ORDER BY Transaction_Amount DESC\n",
    "                        LIMIT 10;'''\n",
    "\n",
    "        cursor.execute(query1)\n",
    "        table_1=cursor.fetchall()\n",
    "        mydb.commit()\n",
    "\n",
    "        df_1=pd.DataFrame(table_1, columns=(\"States\", \"Transaction_Amount\"))\n",
    "        df_1\n",
    "\n",
    "        fig_Amount=px.bar(df_1, x=\"States\", y=\"Transaction_Amount\",  title= \"TRANSACTION AMOUNT\", hover_name=\"States\",  \n",
    "                        color_discrete_sequence=px.colors.sequential.Aggrnyl_r, height=650, width=600)\n",
    "        fig_Amount.show()\n",
    "\n",
    "        #query2\n",
    "        query2= f'''SELECT states, SUM(Transaction_Amount) AS Transaction_Amount\n",
    "                        FROM {table_name}\n",
    "                        GROUP BY states\n",
    "                        ORDER BY Transaction_Amount\n",
    "                        LIMIT 10;'''\n",
    "\n",
    "        cursor.execute(query2)\n",
    "        table_2=cursor.fetchall()\n",
    "        mydb.commit()\n",
    "\n",
    "        df_2=pd.DataFrame(table_2, columns=(\"States\", \"Transaction_Amount\"))\n",
    "\n",
    "        fig_Amount_B=px.bar(df_2, x=\"States\", y=\"Transaction_Amount\",  title= \"TRANSACTION AMOUNT\", hover_name=\"States\",  \n",
    "                        color_discrete_sequence=px.colors.sequential.Aggrnyl, height=650, width=600)\n",
    "        fig_Amount_B.show()\n",
    "\n",
    "\n",
    "        #query3\n",
    "        query3= f'''SELECT States, AVG(Transaction_Amount) AS Transaction_Amount\n",
    "                        FROM {table_name}\n",
    "                        GROUP BY States\n",
    "                        ORDER BY Transaction_Amount;;'''\n",
    "\n",
    "        cursor.execute(query3)\n",
    "        table_3=cursor.fetchall()\n",
    "        mydb.commit()\n",
    "\n",
    "        df_3=pd.DataFrame(table_3, columns=(\"States\", \"Transaction_Amount\"))\n",
    "\n",
    "        fig_Amount_C=px.bar(df_3, y=\"States\", x=\"Transaction_Amount\",  title= \"TRANSACTION AMOUNT\", hover_name=\"States\", orientation=\"h\",\n",
    "                        color_discrete_sequence=px.colors.sequential.Bluered, height=650, width=600)\n",
    "        fig_Amount_C.show()"
   ]
  },
  {
   "cell_type": "code",
   "execution_count": 4,
   "metadata": {},
   "outputs": [],
   "source": [
    "#Table for SQL Creation\n",
    "\n",
    "def Top_Chart_transaction_count(table_name):\n",
    "        mydb=psycopg2.connect(host=\"localhost\",\n",
    "                        user=\"postgres\",\n",
    "                        password=\"postgres\",\n",
    "                        database=\"phone_pe\",\n",
    "                        port=\"5432\")\n",
    "        cursor=mydb.cursor()\n",
    "\n",
    "        #query1\n",
    "        query1= f'''SELECT States, SUM(Transaction_count) AS Transaction_count\n",
    "                        FROM {table_name}\n",
    "                        GROUP BY states\n",
    "                        ORDER BY Transaction_count DESC\n",
    "                        LIMIT 10;'''\n",
    "\n",
    "        cursor.execute(query1)\n",
    "        table_1=cursor.fetchall()\n",
    "        mydb.commit()\n",
    "\n",
    "        df_1=pd.DataFrame(table_1, columns=(\"States\", \"Transaction_count\"))\n",
    "\n",
    "\n",
    "        fig_Amount=px.bar(df_1, x=\"States\", y=\"Transaction_count\",  title= \"TRANSACTION COUNT\", hover_name=\"States\",  \n",
    "                        color_discrete_sequence=px.colors.sequential.Aggrnyl_r, height=650, width=600)\n",
    "        fig_Amount.show()\n",
    "\n",
    "        #query2\n",
    "        query2= f'''SELECT states, SUM(Transaction_count) AS Transaction_count\n",
    "                        FROM {table_name}\n",
    "                        GROUP BY states\n",
    "                        ORDER BY Transaction_count\n",
    "                        LIMIT 10;'''\n",
    "\n",
    "        cursor.execute(query2)\n",
    "        table_2=cursor.fetchall()\n",
    "        mydb.commit()\n",
    "\n",
    "        df_2=pd.DataFrame(table_2, columns=(\"States\", \"Transaction_count\"))\n",
    "\n",
    "        fig_Amount_B=px.bar(df_2, x=\"States\", y=\"Transaction_count\",  title= \"TRANSACTION COUNT\", hover_name=\"States\",  \n",
    "                        color_discrete_sequence=px.colors.sequential.Aggrnyl, height=650, width=600)\n",
    "        fig_Amount_B.show()\n",
    "\n",
    "\n",
    "        #query3\n",
    "        query3= f'''SELECT States, AVG(Transaction_count) AS Transaction_count\n",
    "                        FROM {table_name}\n",
    "                        GROUP BY States\n",
    "                        ORDER BY Transaction_count;'''\n",
    "\n",
    "        cursor.execute(query3)\n",
    "        table_3=cursor.fetchall()\n",
    "        mydb.commit()\n",
    "\n",
    "        df_3=pd.DataFrame(table_3, columns=(\"States\", \"Transaction_count\"))\n",
    "\n",
    "        fig_Amount_C=px.bar(df_3, y=\"States\", x=\"Transaction_count\",  title= \"TRANSACTION COUNT\", hover_name=\"States\", orientation=\"h\",\n",
    "                        color_discrete_sequence=px.colors.sequential.Bluered, height=650, width=600)\n",
    "        fig_Amount_C.show()"
   ]
  },
  {
   "cell_type": "code",
   "execution_count": 5,
   "metadata": {},
   "outputs": [],
   "source": [
    "#Table for SQL Creation\n",
    "\n",
    "def Top_Chart_Regustered_User(table_name, state):\n",
    "        mydb=psycopg2.connect(host=\"localhost\",\n",
    "                        user=\"postgres\",\n",
    "                        password=\"postgres\",\n",
    "                        database=\"phone_pe\",\n",
    "                        port=\"5432\")\n",
    "        cursor=mydb.cursor()\n",
    "\n",
    "        #query1\n",
    "        query1= f'''SELECT Districts, SUM(RegisteredUser) AS RegisteredUser\n",
    "                        From {table_name}\n",
    "                        where states = '{state}'\n",
    "                        GROUP BY Districts\n",
    "                        ORDER BY RegisteredUser DESC\n",
    "                        LIMIT 10;'''\n",
    "\n",
    "        cursor.execute(query1)\n",
    "        table_1=cursor.fetchall()\n",
    "        mydb.commit()\n",
    "\n",
    "        df_1=pd.DataFrame(table_1, columns=(\"Districts\", \"RegisteredUser\"))\n",
    "\n",
    "        fig_Amount=px.bar(df_1, x=\"Districts\", y=\"RegisteredUser\",  title= \"TOP 10 OF REGISTERED USER\", hover_name=\"Districts\",  \n",
    "                        color_discrete_sequence=px.colors.sequential.Aggrnyl_r, height=650, width=600)\n",
    "        fig_Amount.show()\n",
    "\n",
    "        #query2\n",
    "        query2= f'''SELECT Districts, SUM(RegisteredUser) AS RegisteredUser\n",
    "                        From {table_name}\n",
    "                        where states = '{state}'\n",
    "                        GROUP BY Districts\n",
    "                        ORDER BY RegisteredUser\n",
    "                        LIMIT 10;'''\n",
    "\n",
    "        cursor.execute(query2)\n",
    "        table_2=cursor.fetchall()\n",
    "        mydb.commit()\n",
    "\n",
    "        df_2=pd.DataFrame(table_2, columns=(\"Districts\", \"RegisteredUser\"))\n",
    "\n",
    "        fig_Amount_B=px.bar(df_2, x=\"Districts\", y=\"RegisteredUser\",  title= \"LAST 10 OF REGISTERED USER\", hover_name=\"Districts\",  \n",
    "                        color_discrete_sequence=px.colors.sequential.Aggrnyl, height=650, width=600)\n",
    "        fig_Amount_B.show()\n",
    "\n",
    "\n",
    "        #query3\n",
    "        query3= f'''SELECT Districts, AVG(RegisteredUser) AS RegisteredUser\n",
    "                        From {table_name}\n",
    "                        where states = '{state}'\n",
    "                        GROUP BY Districts\n",
    "                        ORDER BY RegisteredUser;'''\n",
    "\n",
    "        cursor.execute(query3)\n",
    "        table_3=cursor.fetchall()\n",
    "        mydb.commit()\n",
    "\n",
    "        df_3=pd.DataFrame(table_3, columns=(\"Districts\", \"RegisteredUser\"))\n",
    "\n",
    "        fig_Amount_C=px.bar(df_3, y=\"Districts\", x=\"RegisteredUser\",  title= \"AVERAGE OF REGISTERED USER\", hover_name=\"Districts\", orientation=\"h\",\n",
    "                        color_discrete_sequence=px.colors.sequential.Bluered, height=650, width=600)\n",
    "        fig_Amount_C.show()"
   ]
  },
  {
   "cell_type": "code",
   "execution_count": 6,
   "metadata": {},
   "outputs": [],
   "source": [
    "#Table for SQL Creation\n",
    "\n",
    "def Top_Chart_AppOpens(table_name, state):\n",
    "        mydb=psycopg2.connect(host=\"localhost\",\n",
    "                        user=\"postgres\",\n",
    "                        password=\"postgres\",\n",
    "                        database=\"phone_pe\",\n",
    "                        port=\"5432\")\n",
    "        cursor=mydb.cursor()\n",
    "\n",
    "        #query1\n",
    "        query1= f'''SELECT Districts, SUM(AppOpens) AS AppOpens\n",
    "                        From {table_name}\n",
    "                        where states = '{state}'\n",
    "                        GROUP BY Districts\n",
    "                        ORDER BY AppOpens DESC\n",
    "                        LIMIT 10;'''\n",
    "\n",
    "        cursor.execute(query1)\n",
    "        table_1=cursor.fetchall()\n",
    "        mydb.commit()\n",
    "\n",
    "        df_1=pd.DataFrame(table_1, columns=(\"Districts\", \"AppOpens\"))\n",
    "\n",
    "        fig_Amount=px.bar(df_1, x=\"Districts\", y=\"AppOpens\",  title= \"TOP 10 OF APPOPENS\", hover_name=\"Districts\",  \n",
    "                        color_discrete_sequence=px.colors.sequential.Aggrnyl_r, height=650, width=600)\n",
    "        fig_Amount.show()\n",
    "\n",
    "        #query2\n",
    "        query2= f'''SELECT Districts, SUM(AppOpens) AS AppOpens\n",
    "                        From {table_name}\n",
    "                        where states = '{state}'\n",
    "                        GROUP BY Districts\n",
    "                        ORDER BY AppOpens\n",
    "                        LIMIT 10;'''\n",
    "\n",
    "        cursor.execute(query2)\n",
    "        table_2=cursor.fetchall()\n",
    "        mydb.commit()\n",
    "\n",
    "        df_2=pd.DataFrame(table_2, columns=(\"Districts\", \"AppOpens\"))\n",
    "\n",
    "        fig_Amount_B=px.bar(df_2, x=\"Districts\", y=\"AppOpens\",  title= \"LAST 10 OF APPOPENS\", hover_name=\"Districts\",  \n",
    "                        color_discrete_sequence=px.colors.sequential.Aggrnyl, height=650, width=600)\n",
    "        fig_Amount_B.show()\n",
    "\n",
    "\n",
    "        #query3\n",
    "        query3= f'''SELECT Districts, AVG(AppOpens) AS AppOpens\n",
    "                        From {table_name}\n",
    "                        where states = '{state}'\n",
    "                        GROUP BY Districts\n",
    "                        ORDER BY AppOpens;'''\n",
    "\n",
    "        cursor.execute(query3)\n",
    "        table_3=cursor.fetchall()\n",
    "        mydb.commit()\n",
    "\n",
    "        df_3=pd.DataFrame(table_3, columns=(\"Districts\", \"AppOpens\"))\n",
    "\n",
    "        fig_Amount_C=px.bar(df_3, y=\"Districts\", x=\"AppOpens\",  title= \"AVERAGE OF APPOPENS\", hover_name=\"Districts\", orientation=\"h\",\n",
    "                        color_discrete_sequence=px.colors.sequential.Bluered, height=650, width=600)\n",
    "        fig_Amount_C.show()"
   ]
  },
  {
   "cell_type": "code",
   "execution_count": 7,
   "metadata": {},
   "outputs": [],
   "source": [
    "#Table for SQL Creation\n",
    "\n",
    "def Top_Chart_Top_Users(table_name):\n",
    "        mydb=psycopg2.connect(host=\"localhost\",\n",
    "                        user=\"postgres\",\n",
    "                        password=\"postgres\",\n",
    "                        database=\"phone_pe\",\n",
    "                        port=\"5432\")\n",
    "        cursor=mydb.cursor()\n",
    "\n",
    "        #query1\n",
    "        query1= f'''SELECT States, SUM(RegisteredUsers) AS RegisteredUsers\n",
    "                        From {table_name}\n",
    "                        GROUP BY States\n",
    "                        ORDER BY RegisteredUsers DESC\n",
    "                        LIMIT 10;'''\n",
    "\n",
    "        cursor.execute(query1)\n",
    "        table_1=cursor.fetchall()\n",
    "        mydb.commit()\n",
    "\n",
    "        df_1=pd.DataFrame(table_1, columns=(\"States\", \"RegisteredUsers\"))\n",
    "\n",
    "        fig_Amount=px.bar(df_1, x=\"States\", y=\"RegisteredUsers\",  title= \"TOP 10 OF TOP USER\", hover_name=\"States\",  \n",
    "                        color_discrete_sequence=px.colors.sequential.Aggrnyl_r, height=650, width=600)\n",
    "        fig_Amount.show()\n",
    "\n",
    "        #query2\n",
    "        query2= f'''SELECT States, SUM(RegisteredUsers) AS RegisteredUsers\n",
    "                        From {table_name}\n",
    "                        GROUP BY States\n",
    "                        ORDER BY RegisteredUsers\n",
    "                        LIMIT 10;'''\n",
    "\n",
    "        cursor.execute(query2)\n",
    "        table_2=cursor.fetchall()\n",
    "        mydb.commit()\n",
    "\n",
    "        df_2=pd.DataFrame(table_2, columns=(\"States\", \"RegisteredUsers\"))\n",
    "\n",
    "        fig_Amount_B=px.bar(df_2, x=\"States\", y=\"RegisteredUsers\",  title= \"LAST 10 OF TOP USER\", hover_name=\"States\",  \n",
    "                        color_discrete_sequence=px.colors.sequential.Aggrnyl, height=650, width=600)\n",
    "        fig_Amount_B.show()\n",
    "\n",
    "\n",
    "        #query3\n",
    "        query3= f'''SELECT States, AVG(RegisteredUsers) AS RegisteredUsers\n",
    "                        From {table_name}\n",
    "                        GROUP BY States\n",
    "                        ORDER BY RegisteredUsers;'''\n",
    "\n",
    "        cursor.execute(query3)\n",
    "        table_3=cursor.fetchall()\n",
    "        mydb.commit()\n",
    "\n",
    "        df_3=pd.DataFrame(table_3, columns=(\"States\", \"RegisteredUsers\"))\n",
    "\n",
    "        fig_Amount_C=px.bar(df_3, y=\"States\", x=\"RegisteredUsers\",  title= \"AVERAGE OF TOP USER\", hover_name=\"States\", orientation=\"h\",\n",
    "                        color_discrete_sequence=px.colors.sequential.Bluered, height=650, width=600)\n",
    "        fig_Amount_C.show()"
   ]
  },
  {
   "cell_type": "code",
   "execution_count": null,
   "metadata": {},
   "outputs": [],
   "source": [
    "Top_Chart_transaction_count(\"agg_transaction\")"
   ]
  },
  {
   "cell_type": "code",
   "execution_count": null,
   "metadata": {},
   "outputs": [],
   "source": [
    "Top_Chart_transaction_Amount(\"agg_transaction\")"
   ]
  },
  {
   "cell_type": "code",
   "execution_count": null,
   "metadata": {},
   "outputs": [],
   "source": [
    "Top_Chart_Regustered_User('map_user', 'Tamil Nadu')"
   ]
  },
  {
   "cell_type": "code",
   "execution_count": null,
   "metadata": {},
   "outputs": [],
   "source": [
    "Top_Chart_AppOpens('map_user', 'Tamil Nadu')"
   ]
  },
  {
   "cell_type": "code",
   "execution_count": null,
   "metadata": {},
   "outputs": [],
   "source": [
    "Top_Chart_Top_Users(\"top_user\")"
   ]
  },
  {
   "cell_type": "code",
   "execution_count": 8,
   "metadata": {},
   "outputs": [],
   "source": [
    "#Transaction_Year_Based\n",
    "def Transaction_amount_count_Year(df,  year):\n",
    "    Trans=df[df[\"Years\"]==year]\n",
    "    Trans.reset_index(drop=True, inplace=True)\n",
    "\n",
    "    transG=Trans.groupby(\"States\")[[\"Transaction_count\",\"Transaction_Amount\"]].sum()\n",
    "    transG.reset_index(inplace=True)\n",
    "\n",
    "    fig_Amount=px.bar(transG, x=\"States\", y=\"Transaction_Amount\",  title=f\"{year} TRANSACTION AMOUNT\",\n",
    "                    color_discrete_sequence=px.colors.sequential.Aggrnyl_r, height=650, width=600)\n",
    "    fig_Amount.show()\n",
    "\n",
    "\n",
    "    fig_Count=px.bar(transG, x=\"States\", y=\"Transaction_count\",  title=f\"{year} TRANSACTION COUNT\",\n",
    "                    color_discrete_sequence=px.colors.sequential.Agsunset, height=650, width=600)\n",
    "    fig_Count.show()\n",
    "\n",
    "\n",
    "    url=\"https://gist.githubusercontent.com/jbrobst/56c13bbbf9d97d187fea01ca62ea5112/raw/e388c4cae20aa53cb5090210a42ebb9b765c0a36/india_states.geojson\"\n",
    "\n",
    "    response=requests.get(url)\n",
    "    data1=json.loads(response.content)\n",
    "\n",
    "    state_name=[]\n",
    "    for features in data1[\"features\"]:\n",
    "        state_name.append(features[\"properties\"][\"ST_NM\"])\n",
    "    state_name.sort()\n",
    "\n",
    "    fig_ind_map1=px.choropleth(transG, geojson=data1, locations=\"States\", featureidkey=\"properties.ST_NM\", \n",
    "                               color= \"Transaction_Amount\", color_continuous_scale= \"ylgnbu\", \n",
    "                               range_color=(transG[\"Transaction_Amount\"].min(), transG[\"Transaction_Amount\"].max()),\n",
    "                               hover_name=\"States\", title=f\"{year} TRANSACTION AMOUNT\", fitbounds= \"locations\",\n",
    "                               height=600,width=600)\n",
    "    \n",
    "    \n",
    "    fig_ind_map1.update_geos(visible=False)\n",
    "    fig_ind_map1.show()\n",
    "\n",
    "    fig_ind_map2=px.choropleth(transG, geojson=data1, locations=\"States\", featureidkey=\"properties.ST_NM\", \n",
    "                               color= \"Transaction_count\", color_continuous_scale= \"ylgnbu\", \n",
    "                               range_color=(transG[\"Transaction_count\"].min(), transG[\"Transaction_count\"].max()),\n",
    "                               hover_name=\"States\", title=f\"{year} TRANSACTION COUNT\", fitbounds= \"locations\",\n",
    "                               height=600,width=600)\n",
    "    \n",
    "    \n",
    "    fig_ind_map2.update_geos(visible=False)\n",
    "    fig_ind_map2.show()\n",
    "\n",
    "    return Trans\n"
   ]
  },
  {
   "cell_type": "code",
   "execution_count": 9,
   "metadata": {},
   "outputs": [],
   "source": [
    "#Transaction_Quarter_Based\n",
    "def Transaction_amount_count_Year_Quarter(df,  quarter):\n",
    "    Trans=df[df[\"Quarter\"]==quarter]\n",
    "    Trans.reset_index(drop=True, inplace=True)\n",
    "\n",
    "\n",
    "    transG=Trans.groupby(\"States\")[[\"Transaction_count\",\"Transaction_Amount\"]].sum()\n",
    "    transG.reset_index(inplace=True)\n",
    "\n",
    "    fig_Amount=px.bar(transG, x=\"States\", y=\"Transaction_Amount\",  title=f\"{Trans['Years'].min()} YEAR {quarter} QUARTER TRANSACTION AMOUNT\",\n",
    "                    color_discrete_sequence=px.colors.sequential.Aggrnyl_r, height=650, width=600)\n",
    "    fig_Amount.show()\n",
    "\n",
    "\n",
    "    fig_Count=px.bar(transG, x=\"States\", y=\"Transaction_count\",  title=f\"{Trans['Years'].min()} YEAR {quarter} QUARTER TRANSACTION COUNT\",\n",
    "                    color_discrete_sequence=px.colors.sequential.Agsunset, height=650, width=600)\n",
    "    fig_Count.show()\n",
    "\n",
    "\n",
    "    url=\"https://gist.githubusercontent.com/jbrobst/56c13bbbf9d97d187fea01ca62ea5112/raw/e388c4cae20aa53cb5090210a42ebb9b765c0a36/india_states.geojson\"\n",
    "\n",
    "    response=requests.get(url)\n",
    "    data1=json.loads(response.content)\n",
    "\n",
    "    state_name=[]\n",
    "    for features in data1[\"features\"]:\n",
    "        state_name.append(features[\"properties\"][\"ST_NM\"])\n",
    "    state_name.sort()\n",
    "\n",
    "    fig_ind_map1=px.choropleth(transG, geojson=data1, locations=\"States\", featureidkey=\"properties.ST_NM\", \n",
    "                               color= \"Transaction_Amount\", color_continuous_scale= \"ylgnbu\", \n",
    "                               range_color=(transG[\"Transaction_Amount\"].min(), transG[\"Transaction_Amount\"].max()),\n",
    "                               hover_name=\"States\", title=f\"{Trans['Years'].min()} YEAR {quarter} QUARTER TRANSACTION AMOUNT\", fitbounds= \"locations\",\n",
    "                               height=600,width=600)\n",
    "    \n",
    "    \n",
    "    fig_ind_map1.update_geos(visible=False)\n",
    "    fig_ind_map1.show()\n",
    "\n",
    "    fig_ind_map2=px.choropleth(transG, geojson=data1, locations=\"States\", featureidkey=\"properties.ST_NM\", \n",
    "                               color= \"Transaction_count\", color_continuous_scale= \"ylgnbu\", \n",
    "                               range_color=(transG[\"Transaction_count\"].min(), transG[\"Transaction_count\"].max()),\n",
    "                               hover_name=\"States\", title=f\"{Trans['Years'].min ()} YEAR {quarter} QUARTER TRANSACTION COUNT\", fitbounds= \"locations\",\n",
    "                               height=600,width=600)\n",
    "    \n",
    "    \n",
    "    fig_ind_map2.update_geos(visible=False)\n",
    "    fig_ind_map2.show()\n",
    "\n",
    "    return Trans"
   ]
  },
  {
   "cell_type": "code",
   "execution_count": 10,
   "metadata": {},
   "outputs": [],
   "source": [
    "#Aggre_Transaction_Type\n",
    "def Agg_Tran_Tras_Type(df, state):\n",
    "\n",
    "    Trans=df[df[\"States\"]==state]\n",
    "    Trans.reset_index(drop=True, inplace=True)\n",
    "    Trans\n",
    "    transG=Trans.groupby(\"Transaction_Type\")[[\"Transaction_count\",\"Transaction_Amount\"]].sum()\n",
    "    transG.reset_index(inplace=True)\n",
    "\n",
    "    fig_pie_A=px.pie(data_frame=transG, names=\"Transaction_Type\", values=\"Transaction_Amount\", \n",
    "                    width=600, title=f\"{state.upper()} TRANSACTION AMOUNT\", hole=0.7)\n",
    "\n",
    "    fig_pie_A.show()\n",
    "\n",
    "    fig_pie_B=px.pie(data_frame=transG, names=\"Transaction_Type\", values=\"Transaction_count\", \n",
    "                    width=600, title=f\"{state.upper()} TRANSACTION AMOUNT\", hole=0.7)\n",
    "\n",
    "    fig_pie_B.show()"
   ]
  },
  {
   "cell_type": "code",
   "execution_count": 11,
   "metadata": {},
   "outputs": [],
   "source": [
    "#Aggre_User_Type\n",
    "def Agg_User_Plot(df, year):\n",
    "    tra_Agg_user=df[df[\"Years\"]==year]\n",
    "    tra_Agg_user.reset_index(drop=True, inplace=True) \n",
    "\n",
    "    tra_Agg_user_G=pd.DataFrame(tra_Agg_user.groupby(\"Brands\")[\"Transaction_count\"].sum())\n",
    "    tra_Agg_user_G.reset_index(inplace=True)\n",
    "\n",
    "    fig_bar_A=px.bar(tra_Agg_user_G, x=\"Brands\", y=\"Transaction_count\", title=f\"{year} BRANDS AND TRANSACTION COUNT\",\n",
    "                    width=800, color_discrete_sequence=px.colors.sequential.Jet, hover_name=\"Brands\")\n",
    "\n",
    "    fig_bar_A.show()\n",
    "\n",
    "    return tra_Agg_user"
   ]
  },
  {
   "cell_type": "code",
   "execution_count": 12,
   "metadata": {},
   "outputs": [],
   "source": [
    "#Aggre_User_Type_2\n",
    "def Agg_User_Plot_2(df, quarter):\n",
    "    tra_Agg_user_Quarter=df[df[\"Quarter\"]==quarter]\n",
    "    tra_Agg_user_Quarter.reset_index(drop=True, inplace=True)\n",
    "\n",
    "    tra_Agg_user_Quarter_group=pd.DataFrame(tra_Agg_user_Quarter.groupby(\"Brands\")[\"Transaction_count\"].sum())\n",
    "    tra_Agg_user_Quarter_group.reset_index(inplace=True)\n",
    "\n",
    "    fig_bar_A=px.bar(tra_Agg_user_Quarter_group, x=\"Brands\", y=\"Transaction_count\", title= f\"{quarter} QUARTER BRANDS AND TRANSACTION COUNT\",\n",
    "                    width=800, color_discrete_sequence=px.colors.sequential.Jet, hover_name=\"Brands\")\n",
    "\n",
    "    fig_bar_A.show()\n",
    "\n",
    "    return tra_Agg_user_Quarter"
   ]
  },
  {
   "cell_type": "code",
   "execution_count": 13,
   "metadata": {},
   "outputs": [],
   "source": [
    "#Aggre_User_Type_3\n",
    "def Agg_User_Plot_3(df, state):\n",
    "    Agg_user_year_Q_S=df[df [\"States\"]== state]\n",
    "    Agg_user_year_Q_S.reset_index(drop=True, inplace=True)\n",
    "\n",
    "    fig_Line_A=px.line(Agg_user_year_Q_S, x= \"Brands\", y= \"Transaction_count\", hover_data= \"Percentage\",\n",
    "                    title= \"BRANDS, TRANSACTION COUNT, PERCENTAGE\", width=800, markers=True)\n",
    "    fig_Line_A.show()"
   ]
  },
  {
   "cell_type": "code",
   "execution_count": 14,
   "metadata": {},
   "outputs": [],
   "source": [
    "#Map_Inssurance_district\n",
    "def tra_Map_Insurance_District(df, state):\n",
    "\n",
    "    Trans=df[df[\"States\"]==state]\n",
    "    Trans.reset_index(drop=True, inplace=True)\n",
    "    Trans\n",
    "    transG=Trans.groupby(\"District\")[[\"Transaction_count\",\"Transaction_Amount\"]].sum()\n",
    "    transG.reset_index(inplace=True)\n",
    "\n",
    "    fig_bar_A=px.bar(transG, x= \"Transaction_Amount\", y= \"District\", orientation=\"h\",\n",
    "                     title=f\"{state.upper()} DISTRICT AND TRANSACTION AMOUNT\", color_discrete_sequence=px.colors.sequential.Mint_r)\n",
    "\n",
    "    fig_bar_A.show()\n",
    "\n",
    "    fig_bar_B=px.bar(transG, x= \"Transaction_count\", y= \"District\", orientation=\"h\",\n",
    "                     title=f\"{state.upper()} DISTRICT AND TRANSACTION COUNT\", color_discrete_sequence=px.colors.sequential.Mint_r)\n",
    "    fig_bar_B.show()"
   ]
  },
  {
   "cell_type": "code",
   "execution_count": 15,
   "metadata": {},
   "outputs": [],
   "source": [
    "# Map_User_Plot_1\n",
    "def Map_User_Plot_1(df, year):\n",
    "    tra_Map_user=df[df[\"Years\"]==year]\n",
    "    tra_Map_user.reset_index(drop=True, inplace=True) \n",
    "\n",
    "    tra_Map_user_G=tra_Map_user.groupby(\"States\")[[\"RegisteredUser\",\"AppOpens\"] ].sum()\n",
    "    tra_Map_user_G.reset_index(inplace=True)\n",
    "\n",
    "    fig_Line_A=px.line(tra_Map_user_G, x= \"States\", y= [\"RegisteredUser\",\"AppOpens\"],\n",
    "                    title= f\"{year} REGISTERED USER, APPOPENS\", width=800,height=750, markers=True)\n",
    "    fig_Line_A.show()\n",
    "\n",
    "    return tra_Map_user"
   ]
  },
  {
   "cell_type": "code",
   "execution_count": 16,
   "metadata": {},
   "outputs": [],
   "source": [
    "# Map_User_Plot_2\n",
    "def Map_User_Plot_2(df, quarter):\n",
    "    tra_Map_user_Quarter=df[df[\"Quarter\"]==quarter]\n",
    "    tra_Map_user_Quarter.reset_index(drop=True, inplace=True) \n",
    "\n",
    "    tra_Map_user_Year_G=tra_Map_user_Quarter.groupby(\"States\")[[\"RegisteredUser\",\"AppOpens\"] ].sum()\n",
    "    tra_Map_user_Year_G.reset_index(inplace=True)\n",
    "\n",
    "    fig_Line_B=px.line(tra_Map_user_Year_G, x= \"States\", y= [\"RegisteredUser\",\"AppOpens\"],\n",
    "                    title= f\"{df['Years'].min()} YEAR {quarter} QUARTER REGISTERED USER, APPOPENS\", width=800,height=750, markers=True,\n",
    "                    color_discrete_sequence=px.colors.sequential.Bluyl)\n",
    "    fig_Line_B.show()\n",
    "\n",
    "    return tra_Map_user_Quarter"
   ]
  },
  {
   "cell_type": "code",
   "execution_count": 17,
   "metadata": {},
   "outputs": [],
   "source": [
    "# Map_User_Plot_3\n",
    "def Map_User_Plot_3(df, states):\n",
    "    tra_Map_user_Quarter_State=df[df[\"States\"]==states]\n",
    "    tra_Map_user_Quarter_State.reset_index(drop=True, inplace=True)\n",
    "\n",
    "    fig_map_user_bar_1=px.bar(tra_Map_user_Quarter_State, x= \"RegisteredUser\", y= \"Districts\", orientation=\"h\",\n",
    "                            title= \"REGISTERED USER\", height=1000, color_discrete_sequence=px.colors.sequential.Rainbow_r)\n",
    "    fig_map_user_bar_1.show()\n",
    "\n",
    "    fig_map_user_bar_2=px.bar(tra_Map_user_Quarter_State, x= \"AppOpens\", y= \"Districts\", orientation=\"h\",\n",
    "                            title= \"APPOPENS\", height=1000, color_discrete_sequence=px.colors.sequential.Rainbow)\n",
    "    fig_map_user_bar_2.show()"
   ]
  },
  {
   "cell_type": "code",
   "execution_count": 18,
   "metadata": {},
   "outputs": [],
   "source": [
    "# Top_Insurance_Plot_1\n",
    "def Top_Insurance_Plot_1(df, state):\n",
    "    tra_Top_Insurance_State=df[df[\"States\"]==state]\n",
    "    tra_Top_Insurance_State.reset_index(drop=True, inplace=True) \n",
    "\n",
    "    tra_Top_Insurance_State_G=tra_Top_Insurance_State.groupby(\"Pincodes\")[[\"Transaction_count\",\"Transaction_Amount\"] ].sum()\n",
    "    tra_Top_Insurance_State_G.reset_index(inplace=True)\n",
    "\n",
    "    fig_top_insurance_bar_1=px.bar(tra_Top_Insurance_State, x= \"Quarter\", y= \"Transaction_Amount\", hover_data=\"Pincodes\",\n",
    "                            title= \"TRANSACTION AMOUNT\", height=1000, color_discrete_sequence=px.colors.sequential.Sunsetdark)\n",
    "    fig_top_insurance_bar_1.show()\n",
    "\n",
    "    fig_top_insurance_bar_2=px.bar(tra_Top_Insurance_State, x= \"Quarter\", y= \"Transaction_count\", hover_data=\"Pincodes\",\n",
    "                            title= \"TRANSACTION AMOUNT\", height=1000, color_discrete_sequence=px.colors.sequential.Cividis_r)\n",
    "    fig_top_insurance_bar_2.show()"
   ]
  },
  {
   "cell_type": "code",
   "execution_count": 19,
   "metadata": {},
   "outputs": [],
   "source": [
    "# Top_User_Plot_1\n",
    "def Top_User_Plot_1(df, year):    \n",
    "    tra_Top_User=df[df[\"Years\"]==year]\n",
    "    tra_Top_User.reset_index(drop=True, inplace=True)\n",
    "\n",
    "    tra_Top_User_G=pd.DataFrame(tra_Top_User.groupby([\"States\", \"Quarter\"])[\"RegisteredUser\"].sum())\n",
    "    tra_Top_User_G.reset_index(inplace=True)\n",
    "    tra_Top_User_G\n",
    "\n",
    "    fig_Top_plot_1= px.bar(tra_Top_User_G, x= \"States\", y= \"RegisteredUser\", color= \"Quarter\", width= 600, height=650,\n",
    "                        color_discrete_sequence=px.colors.sequential.Viridis, hover_name= \"States\",\n",
    "                        title=f\"{year} REGISTERED USER\")\n",
    "    fig_Top_plot_1.show()\n",
    "\n",
    "    return tra_Top_User"
   ]
  },
  {
   "cell_type": "code",
   "execution_count": 20,
   "metadata": {},
   "outputs": [],
   "source": [
    "# Top_User_Plot_2\n",
    "def Top_User_Plot_2(df, state):\n",
    "    tra_Top_user_State=df[df[\"States\"]== state]\n",
    "    tra_Top_user_State.reset_index(drop=True, inplace=True)\n",
    "\n",
    "    fig_Top_plot_2= px.bar(tra_Top_user_State, x= \"Quarter\", y= \"RegisteredUser\", title= \"REGISTERED USER, PINCODES, QUARTER\",\n",
    "                        width=800, height=650, color= \"RegisteredUser\", hover_data= \"Pincodes\",\n",
    "                        color_continuous_scale= px.colors.sequential.Hot_r)\n",
    "    fig_Top_plot_2.show()"
   ]
  },
  {
   "cell_type": "markdown",
   "metadata": {},
   "source": [
    "#### Aggregrated_Insurance"
   ]
  },
  {
   "cell_type": "code",
   "execution_count": null,
   "metadata": {},
   "outputs": [],
   "source": [
    "tra_Y=Transaction_amount_count_Year(Agg_Insurance, 2023)"
   ]
  },
  {
   "cell_type": "code",
   "execution_count": null,
   "metadata": {},
   "outputs": [],
   "source": [
    "Transaction_amount_count_Year_Quarter(tra_Y,  1)"
   ]
  },
  {
   "cell_type": "markdown",
   "metadata": {},
   "source": [
    "#### Aggregrated_Transaction"
   ]
  },
  {
   "cell_type": "code",
   "execution_count": null,
   "metadata": {},
   "outputs": [],
   "source": [
    "tra_Agg_tra=Transaction_amount_count_Year(Agg_Transaction, 2023)"
   ]
  },
  {
   "cell_type": "code",
   "execution_count": null,
   "metadata": {},
   "outputs": [],
   "source": [
    "Agg_Tran_Tras_Type(tra_Agg_tra, \"Kerala\")"
   ]
  },
  {
   "cell_type": "code",
   "execution_count": null,
   "metadata": {},
   "outputs": [],
   "source": [
    "tra_Agg_tra_Quarter=Transaction_amount_count_Year_Quarter(tra_Agg_tra,  1)"
   ]
  },
  {
   "cell_type": "code",
   "execution_count": null,
   "metadata": {},
   "outputs": [],
   "source": [
    "Agg_Tran_Tras_Type(tra_Agg_tra_Quarter, \"Kerala\")"
   ]
  },
  {
   "cell_type": "markdown",
   "metadata": {},
   "source": [
    "### Aggregrated_User"
   ]
  },
  {
   "cell_type": "code",
   "execution_count": null,
   "metadata": {},
   "outputs": [],
   "source": [
    "\n",
    "Agg_user_year=Agg_User_Plot(Agg_User, 2021)"
   ]
  },
  {
   "cell_type": "code",
   "execution_count": null,
   "metadata": {},
   "outputs": [],
   "source": [
    "Agg_user_year_Quarter=Agg_User_Plot_2(Agg_user_year, 3)"
   ]
  },
  {
   "cell_type": "code",
   "execution_count": null,
   "metadata": {},
   "outputs": [],
   "source": [
    "Agg_User_Plot_3(Agg_user_year_Quarter, \"Andaman & Nicobar\")"
   ]
  },
  {
   "cell_type": "markdown",
   "metadata": {},
   "source": [
    "#### Map_Insurance"
   ]
  },
  {
   "cell_type": "code",
   "execution_count": null,
   "metadata": {},
   "outputs": [],
   "source": [
    "tra_Map_Insurance_Year=Transaction_amount_count_Year(Map_Insurance, 2023) "
   ]
  },
  {
   "cell_type": "code",
   "execution_count": null,
   "metadata": {},
   "outputs": [],
   "source": [
    "tra_Map_Insurance_District(tra_Map_Insurance_Year, \"Tamil Nadu\")"
   ]
  },
  {
   "cell_type": "code",
   "execution_count": null,
   "metadata": {},
   "outputs": [],
   "source": [
    "tra_Map_Insurance_Year_Quarter=Transaction_amount_count_Year_Quarter(tra_Map_Insurance_Year,  2)"
   ]
  },
  {
   "cell_type": "code",
   "execution_count": null,
   "metadata": {},
   "outputs": [],
   "source": [
    "tra_Map_Insurance_District(tra_Map_Insurance_Year_Quarter, \"Kerala\")"
   ]
  },
  {
   "cell_type": "markdown",
   "metadata": {},
   "source": [
    "#### Map_Transaction"
   ]
  },
  {
   "cell_type": "code",
   "execution_count": null,
   "metadata": {},
   "outputs": [],
   "source": [
    "tra_Map_Tranaction_Year=Transaction_amount_count_Year(Map_Transaction, 2022)   "
   ]
  },
  {
   "cell_type": "code",
   "execution_count": null,
   "metadata": {},
   "outputs": [],
   "source": [
    "tra_Map_Insurance_District(tra_Map_Tranaction_Year, \"Tamil Nadu\")"
   ]
  },
  {
   "cell_type": "code",
   "execution_count": null,
   "metadata": {},
   "outputs": [],
   "source": [
    "tra_Map_Transaction_Year_Quarter=Transaction_amount_count_Year_Quarter(tra_Map_Tranaction_Year,  4)    "
   ]
  },
  {
   "cell_type": "code",
   "execution_count": null,
   "metadata": {},
   "outputs": [],
   "source": [
    "tra_Map_Insurance_District(tra_Map_Transaction_Year_Quarter, \"Kerala\")"
   ]
  },
  {
   "cell_type": "code",
   "execution_count": null,
   "metadata": {},
   "outputs": [],
   "source": [
    "Map_Transaction"
   ]
  },
  {
   "cell_type": "markdown",
   "metadata": {},
   "source": [
    "#### Map_User"
   ]
  },
  {
   "cell_type": "code",
   "execution_count": null,
   "metadata": {},
   "outputs": [],
   "source": [
    "tra_Map_User_Year=Map_User_Plot_1(Map_User, 2021)"
   ]
  },
  {
   "cell_type": "code",
   "execution_count": null,
   "metadata": {},
   "outputs": [],
   "source": [
    "tra_Map_User_Year_Quarter=Map_User_Plot_2(tra_Map_User_Year, 4)"
   ]
  },
  {
   "cell_type": "code",
   "execution_count": null,
   "metadata": {},
   "outputs": [],
   "source": [
    "Map_User_Plot_3(tra_Map_User_Year_Quarter, \"Bihar\")"
   ]
  },
  {
   "cell_type": "markdown",
   "metadata": {},
   "source": [
    "#### Top_Insurance"
   ]
  },
  {
   "cell_type": "code",
   "execution_count": null,
   "metadata": {},
   "outputs": [],
   "source": [
    "tra_Top_Insurance_Year= Transaction_amount_count_Year(Top_Insurance,  2022)\n"
   ]
  },
  {
   "cell_type": "code",
   "execution_count": null,
   "metadata": {},
   "outputs": [],
   "source": [
    "Top_Insurance_Plot_1(tra_Top_Insurance_Year, \"West Bengal\")"
   ]
  },
  {
   "cell_type": "code",
   "execution_count": null,
   "metadata": {},
   "outputs": [],
   "source": [
    "tra_Top_Insurance_Year_Quarter=Transaction_amount_count_Year_Quarter(tra_Top_Insurance_Year,  4)    "
   ]
  },
  {
   "cell_type": "markdown",
   "metadata": {},
   "source": [
    "#### Top_transaction"
   ]
  },
  {
   "cell_type": "code",
   "execution_count": null,
   "metadata": {},
   "outputs": [],
   "source": [
    "tra_Top_Transaction_Year= Transaction_amount_count_Year(Top_Transaction,  2022)\n"
   ]
  },
  {
   "cell_type": "code",
   "execution_count": null,
   "metadata": {},
   "outputs": [],
   "source": [
    "Top_Insurance_Plot_1(tra_Top_Transaction_Year, \"West Bengal\")"
   ]
  },
  {
   "cell_type": "code",
   "execution_count": null,
   "metadata": {},
   "outputs": [],
   "source": [
    "tra_Top_Transaction_Year_Quarter=Transaction_amount_count_Year_Quarter(tra_Top_Transaction_Year,  4)    "
   ]
  },
  {
   "cell_type": "markdown",
   "metadata": {},
   "source": [
    "#### Top_User"
   ]
  },
  {
   "cell_type": "code",
   "execution_count": null,
   "metadata": {},
   "outputs": [],
   "source": [
    "tra_Top_User_Year=Top_User_Plot_1(Top_User, 2019)"
   ]
  },
  {
   "cell_type": "code",
   "execution_count": null,
   "metadata": {},
   "outputs": [],
   "source": [
    "Top_User_Plot_2(tra_Top_User_Year, \"West Bengal\")"
   ]
  },
  {
   "cell_type": "code",
   "execution_count": null,
   "metadata": {},
   "outputs": [],
   "source": [
    "tra_Top_User_Year"
   ]
  }
 ],
 "metadata": {
  "kernelspec": {
   "display_name": ".venv",
   "language": "python",
   "name": "python3"
  },
  "language_info": {
   "codemirror_mode": {
    "name": "ipython",
    "version": 3
   },
   "file_extension": ".py",
   "mimetype": "text/x-python",
   "name": "python",
   "nbconvert_exporter": "python",
   "pygments_lexer": "ipython3",
   "version": "3.12.3"
  }
 },
 "nbformat": 4,
 "nbformat_minor": 2
}
